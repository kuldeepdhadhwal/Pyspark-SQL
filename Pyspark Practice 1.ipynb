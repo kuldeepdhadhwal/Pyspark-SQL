{
 "cells": [
  {
   "cell_type": "code",
   "execution_count": 1,
   "id": "f93cddef",
   "metadata": {},
   "outputs": [],
   "source": [
    "from pyspark.sql import SparkSession\n",
    "spark = SparkSession.builder.master('local').appName('sample app 1').getOrCreate()"
   ]
  },
  {
   "cell_type": "code",
   "execution_count": 2,
   "id": "4c7d629d",
   "metadata": {},
   "outputs": [],
   "source": [
    "sc = spark.sparkContext"
   ]
  },
  {
   "cell_type": "code",
   "execution_count": 3,
   "id": "af879056",
   "metadata": {},
   "outputs": [
    {
     "name": "stdout",
     "output_type": "stream",
     "text": [
      "<SparkContext master=local appName=sample app 1>\n"
     ]
    }
   ],
   "source": [
    "print(sc)"
   ]
  },
  {
   "cell_type": "code",
   "execution_count": 26,
   "id": "90b8aed6",
   "metadata": {},
   "outputs": [],
   "source": [
    "data = [\n",
    "    ('kuldeep','kuldeepdhadhwal@gmail.com',9878787),\n",
    "    ('kuldeep','kuldeepdhadhwal@gmail.com',9878786),\n",
    "    ('kuldeep','kuldeepthakur1@gmail.com',9878787),\n",
    "    ('kuldeep','kuldeepthakur1@gmail.com',9878787),\n",
    "    ('kuldeep','aja@gmail.com',987877),\n",
    "    ('kuldeep','aja@gmail.com',987877),\n",
    "    \n",
    "]"
   ]
  },
  {
   "cell_type": "code",
   "execution_count": 40,
   "id": "2d0eb94e",
   "metadata": {},
   "outputs": [],
   "source": [
    "df = spark.createDataFrame(data=data, schema=['name','email','mno'])"
   ]
  },
  {
   "cell_type": "code",
   "execution_count": 41,
   "id": "2f94e290",
   "metadata": {},
   "outputs": [
    {
     "name": "stdout",
     "output_type": "stream",
     "text": [
      "+-------+--------------------+-------+\n",
      "|   name|               email|    mno|\n",
      "+-------+--------------------+-------+\n",
      "|kuldeep|kuldeepdhadhwal@g...|9878787|\n",
      "|kuldeep|kuldeepdhadhwal@g...|9878786|\n",
      "|kuldeep|kuldeepthakur1@gm...|9878787|\n",
      "|kuldeep|kuldeepthakur1@gm...|9878787|\n",
      "|kuldeep|       aja@gmail.com| 987877|\n",
      "|kuldeep|       aja@gmail.com| 987877|\n",
      "+-------+--------------------+-------+\n",
      "\n"
     ]
    }
   ],
   "source": [
    "df.show()"
   ]
  },
  {
   "cell_type": "code",
   "execution_count": 44,
   "id": "7e49520e",
   "metadata": {},
   "outputs": [],
   "source": [
    "from pyspark.sql.functions import concat,col"
   ]
  },
  {
   "cell_type": "code",
   "execution_count": 45,
   "id": "14a9c83e",
   "metadata": {},
   "outputs": [],
   "source": [
    "df2 = df.withColumn(\"concat_col\", concat(col(\"email\"),col(\"mno\")))"
   ]
  },
  {
   "cell_type": "code",
   "execution_count": 35,
   "id": "3176d446",
   "metadata": {},
   "outputs": [],
   "source": [
    "from pyspark.sql.window import Window\n",
    "from pyspark.sql.functions import row_number,dense_rank"
   ]
  },
  {
   "cell_type": "code",
   "execution_count": 46,
   "id": "57fdfeb0",
   "metadata": {},
   "outputs": [],
   "source": [
    "w = Window.partitionBy('concat_col').orderBy('name')"
   ]
  },
  {
   "cell_type": "code",
   "execution_count": 29,
   "id": "84a57dbc",
   "metadata": {},
   "outputs": [
    {
     "name": "stdout",
     "output_type": "stream",
     "text": [
      "+--------------------+-------+-----+\n",
      "|               email|    mno|count|\n",
      "+--------------------+-------+-----+\n",
      "|kuldeepdhadhwal@g...|9878786|    1|\n",
      "|       aja@gmail.com| 987877|    2|\n",
      "|kuldeepdhadhwal@g...|9878787|    1|\n",
      "|kuldeepthakur1@gm...|9878787|    2|\n",
      "+--------------------+-------+-----+\n",
      "\n"
     ]
    }
   ],
   "source": [
    "df = df.groupBy('email','mno').count().show()"
   ]
  },
  {
   "cell_type": "code",
   "execution_count": 55,
   "id": "10513dd8",
   "metadata": {},
   "outputs": [
    {
     "name": "stdout",
     "output_type": "stream",
     "text": [
      "+-------+--------------------+-------+----------+\n",
      "|   name|               email|    mno|row_number|\n",
      "+-------+--------------------+-------+----------+\n",
      "|kuldeep|kuldeepdhadhwal@g...|9878787|         1|\n",
      "|kuldeep|kuldeepdhadhwal@g...|9878786|         1|\n",
      "|kuldeep|       aja@gmail.com| 987877|         1|\n",
      "|kuldeep|kuldeepthakur1@gm...|9878787|         1|\n",
      "+-------+--------------------+-------+----------+\n",
      "\n"
     ]
    }
   ],
   "source": [
    "df3 = df2.withColumn(\"row_number\", row_number().over(w)).where(col(\"row_number\")==1).drop(col(\"concat_col\")).show()"
   ]
  },
  {
   "cell_type": "code",
   "execution_count": 10,
   "id": "4892304f",
   "metadata": {},
   "outputs": [],
   "source": [
    "df = df.dropDuplicates()"
   ]
  },
  {
   "cell_type": "code",
   "execution_count": 11,
   "id": "fe3fdf25",
   "metadata": {},
   "outputs": [
    {
     "name": "stdout",
     "output_type": "stream",
     "text": [
      "+-------+--------------------+-------+\n",
      "|   name|               email|    mno|\n",
      "+-------+--------------------+-------+\n",
      "|kuldeep|       aja@gmail.com| 987877|\n",
      "|kuldeep|kuldeepdhadhwal@g...|9878787|\n",
      "|kuldeep|kuldeepdhadhwal@g...|9878786|\n",
      "|kuldeep|kuldeepthakur1@gm...|9878787|\n",
      "+-------+--------------------+-------+\n",
      "\n"
     ]
    }
   ],
   "source": [
    "df.show()"
   ]
  },
  {
   "cell_type": "code",
   "execution_count": 13,
   "id": "37b48464",
   "metadata": {},
   "outputs": [
    {
     "name": "stdout",
     "output_type": "stream",
     "text": [
      "[11, 12, 13, 14, 15, 16, 17, 18]\n",
      "4\n"
     ]
    }
   ],
   "source": [
    "rdd = sc.parallelize([1,2,3,4,5,6,7,8],4).map(lambda x:x+10)\n",
    "print(rdd.collect())\n",
    "print(rdd.getNumPartitions())"
   ]
  },
  {
   "cell_type": "code",
   "execution_count": 7,
   "id": "3495d994",
   "metadata": {},
   "outputs": [
    {
     "name": "stdout",
     "output_type": "stream",
     "text": [
      "1\n"
     ]
    }
   ],
   "source": [
    "print(rdd.first())"
   ]
  },
  {
   "cell_type": "code",
   "execution_count": 9,
   "id": "29e40479",
   "metadata": {},
   "outputs": [
    {
     "name": "stdout",
     "output_type": "stream",
     "text": [
      "From local[5]1\n"
     ]
    }
   ],
   "source": [
    "rdd = spark.sparkContext.parallelize((0,20))\n",
    "print(\"From local[5]\"+str(rdd.getNumPartitions()))"
   ]
  },
  {
   "cell_type": "code",
   "execution_count": 10,
   "id": "1653858a",
   "metadata": {},
   "outputs": [
    {
     "name": "stdout",
     "output_type": "stream",
     "text": [
      "parallelize : 6\n"
     ]
    }
   ],
   "source": [
    "rdd1 = spark.sparkContext.parallelize((0,25), 6)\n",
    "print(\"parallelize : \"+str(rdd1.getNumPartitions()))"
   ]
  },
  {
   "cell_type": "code",
   "execution_count": 11,
   "id": "e6b2b78d",
   "metadata": {},
   "outputs": [],
   "source": [
    "rdd1.saveAsTextFile(\"/home/kuldeep/spark/Projects/partition\")"
   ]
  },
  {
   "cell_type": "code",
   "execution_count": null,
   "id": "dda3409c",
   "metadata": {},
   "outputs": [],
   "source": [
    "rdd2 = rdd1.repartition(4)\n",
    "print(\"Repartition size : \"+str(rdd2.getNumPartitions()))\n",
    "rdd2.saveAsTextFile(\"/tmp/re-partition\")"
   ]
  },
  {
   "cell_type": "code",
   "execution_count": 32,
   "id": "8203bbac",
   "metadata": {},
   "outputs": [],
   "source": [
    "data = [('James','Smith','M',30),\n",
    "  ('Anna','Rose','F',41),\n",
    "  ('Robert','Williams','M',62), \n",
    "]\n",
    "\n",
    "columns = [\"firstname\",\"lastname\",\"gender\",\"salary\"]\n",
    "df = spark.createDataFrame(data= data,schema = columns)"
   ]
  },
  {
   "cell_type": "code",
   "execution_count": 33,
   "id": "25df2660",
   "metadata": {},
   "outputs": [
    {
     "name": "stdout",
     "output_type": "stream",
     "text": [
      "+---------+--------+------+------+\n",
      "|firstname|lastname|gender|salary|\n",
      "+---------+--------+------+------+\n",
      "|    James|   Smith|     M|    30|\n",
      "|     Anna|    Rose|     F|    41|\n",
      "|   Robert|Williams|     M|    62|\n",
      "+---------+--------+------+------+\n",
      "\n"
     ]
    }
   ],
   "source": [
    "df.show()"
   ]
  },
  {
   "cell_type": "code",
   "execution_count": 30,
   "id": "715bd521",
   "metadata": {},
   "outputs": [
    {
     "name": "stdout",
     "output_type": "stream",
     "text": [
      "+---------------+------+----------+\n",
      "|           name|gender|new_salary|\n",
      "+---------------+------+----------+\n",
      "|    James,Smith|     M|        60|\n",
      "|      Anna,Rose|     F|        82|\n",
      "|Robert,Williams|     M|       124|\n",
      "+---------------+------+----------+\n",
      "\n"
     ]
    }
   ],
   "source": [
    "rdd2=df.rdd.map(lambda x: \n",
    "    (x[0]+\",\"+x[1],x[2],x[3]*2)\n",
    "    )  \n",
    "df2=rdd2.toDF([\"name\",\"gender\",\"new_salary\"]   )\n",
    "df2.show()"
   ]
  },
  {
   "cell_type": "code",
   "execution_count": 42,
   "id": "c04b86a5",
   "metadata": {},
   "outputs": [
    {
     "name": "stdout",
     "output_type": "stream",
     "text": [
      "[['t'], ['e'], ['s'], ['t'], ['', ''], ['s'], ['t'], ['r'], ['i'], ['n'], ['g']]\n"
     ]
    }
   ],
   "source": [
    "a = \"test string\"\n",
    "result = list(map((lambda a: a.split(' ')),a))\n",
    "print(result)"
   ]
  },
  {
   "cell_type": "code",
   "execution_count": 44,
   "id": "83d04a55",
   "metadata": {},
   "outputs": [
    {
     "name": "stdout",
     "output_type": "stream",
     "text": [
      "[5, 7]\n"
     ]
    }
   ],
   "source": [
    "a = [1,3,5,7]\n",
    "result = list(filter(lambda x: x>3,a))\n",
    "print(result)"
   ]
  },
  {
   "cell_type": "code",
   "execution_count": 45,
   "id": "48b75ba5",
   "metadata": {},
   "outputs": [
    {
     "name": "stdout",
     "output_type": "stream",
     "text": [
      "16\n"
     ]
    }
   ],
   "source": [
    "from functools import reduce\n",
    "result = reduce(lambda x,y: x+y,a)\n",
    "print(result)"
   ]
  }
 ],
 "metadata": {
  "kernelspec": {
   "display_name": "Python 3",
   "language": "python",
   "name": "python3"
  },
  "language_info": {
   "codemirror_mode": {
    "name": "ipython",
    "version": 3
   },
   "file_extension": ".py",
   "mimetype": "text/x-python",
   "name": "python",
   "nbconvert_exporter": "python",
   "pygments_lexer": "ipython3",
   "version": "3.6.13"
  }
 },
 "nbformat": 4,
 "nbformat_minor": 5
}
